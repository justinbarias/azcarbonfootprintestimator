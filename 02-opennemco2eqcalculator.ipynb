{
 "cells": [
  {
   "cell_type": "code",
   "execution_count": null,
   "metadata": {},
   "outputs": [],
   "source": [
    "import pandas as pd"
   ]
  },
  {
   "cell_type": "code",
   "execution_count": null,
   "metadata": {},
   "outputs": [],
   "source": [
    "df = pd.read_csv('./opennem/yearly/2020-2021-opennem-nsw.csv')\n",
    "df"
   ]
  },
  {
   "cell_type": "code",
   "execution_count": null,
   "metadata": {},
   "outputs": [],
   "source": [
    "df.info()"
   ]
  },
  {
   "cell_type": "code",
   "execution_count": null,
   "metadata": {},
   "outputs": [],
   "source": [
    "df['Total Generation'] = df['Pumps -  GWh'] + df['Coal (Black) -  GWh'] + df['Distillate -  GWh'] + df['Gas (CCGT) -  GWh'] + df['Gas (OCGT) -  GWh'] + df['Hydro -  GWh'] + df['Wind -  GWh'] + df['Solar (Utility) -  GWh'] + df['Solar (Rooftop) -  GWh']"
   ]
  },
  {
   "cell_type": "code",
   "execution_count": null,
   "metadata": {},
   "outputs": [],
   "source": [
    "df['Total Generation']"
   ]
  },
  {
   "cell_type": "code",
   "execution_count": null,
   "metadata": {},
   "outputs": [],
   "source": [
    "df = df.drop([12])"
   ]
  },
  {
   "cell_type": "code",
   "execution_count": null,
   "metadata": {},
   "outputs": [],
   "source": [
    "df['Total Generation']"
   ]
  },
  {
   "cell_type": "code",
   "execution_count": null,
   "metadata": {},
   "outputs": [],
   "source": [
    "df['PercentRenewables'] = (df['Hydro -  GWh'] + df['Wind -  GWh'] + df['Solar (Rooftop) -  GWh'] + df['Solar (Utility) -  GWh'])/df['Total Generation']"
   ]
  },
  {
   "cell_type": "code",
   "execution_count": null,
   "metadata": {},
   "outputs": [],
   "source": [
    "df['PercentRenewables']"
   ]
  },
  {
   "cell_type": "code",
   "execution_count": null,
   "metadata": {},
   "outputs": [],
   "source": [
    "df.info()"
   ]
  },
  {
   "cell_type": "code",
   "execution_count": null,
   "metadata": {},
   "outputs": [],
   "source": [
    "unwanted_cols = ['Emissions Intensity - kgCO₂e/MWh','Exports -  GWh','Imports -  GWh','Price - AUD/MWh','Pumps Market Value - AUD','Exports Market Value - AUD','Imports Market Value - AUD','Coal (Black) Market Value - AUD','Distillate Market Value - AUD','Gas (CCGT) Market Value - AUD','Gas (OCGT) Market Value - AUD','Hydro Market Value - AUD','Solar (Rooftop) Market Value - AUD','Solar (Utility) Market Value - AUD','Wind Market Value - AUD'] \n",
    "df = df.drop(axis=1, columns=unwanted_cols)"
   ]
  },
  {
   "cell_type": "code",
   "execution_count": null,
   "metadata": {},
   "outputs": [],
   "source": [
    "df['TotalCO2Emissions'] = df['Coal (Black) Emissions Vol - tCO₂e'] + df['Gas (CCGT) Emissions Vol - tCO₂e'] + df['Gas (OCGT) Emissions Vol - tCO₂e'] + df['Distillate Emissions Vol - tCO₂e']"
   ]
  },
  {
   "cell_type": "code",
   "execution_count": null,
   "metadata": {},
   "outputs": [],
   "source": [
    "df['CarbonIntensity'] = df['TotalCO2Emissions'] / df['Total Generation']"
   ]
  },
  {
   "cell_type": "code",
   "execution_count": null,
   "metadata": {},
   "outputs": [],
   "source": [
    "df"
   ]
  },
  {
   "cell_type": "markdown",
   "metadata": {},
   "source": [
    "# Start Processing VIC data"
   ]
  },
  {
   "cell_type": "code",
   "execution_count": null,
   "metadata": {},
   "outputs": [],
   "source": [
    "unwanted_cols = ['Emissions Intensity - kgCO₂e/MWh','Exports -  GWh','Imports -  GWh','Price - AUD/MWh','Exports Market Value - AUD','Imports Market Value - AUD','Gas (OCGT) Market Value - AUD','Hydro Market Value - AUD','Solar (Rooftop) Market Value - AUD','Solar (Utility) Market Value - AUD','Wind Market Value - AUD'] \n",
    "df_vic = pd.read_csv('./opennem/yearly/2020-2021-opennem-vic.csv')\n",
    "df_vic = df_vic.drop(axis=1, columns=unwanted_cols)"
   ]
  },
  {
   "cell_type": "code",
   "execution_count": null,
   "metadata": {},
   "outputs": [],
   "source": [
    "df_vic['Total Generation'] =  df_vic['Coal (Brown) -  GWh'] + df_vic['Gas (Steam) -  GWh'] + df_vic['Gas (OCGT) -  GWh'] + df_vic['Battery (Discharging) -  GWh'] + df_vic['Hydro -  GWh'] + df_vic['Wind -  GWh'] + df_vic['Solar (Utility) -  GWh'] + df_vic['Solar (Rooftop) -  GWh']"
   ]
  },
  {
   "cell_type": "code",
   "execution_count": null,
   "metadata": {},
   "outputs": [],
   "source": [
    "df_vic['Total Generation']"
   ]
  },
  {
   "cell_type": "code",
   "execution_count": null,
   "metadata": {},
   "outputs": [],
   "source": [
    "df_vic['PercentRenewables'] = (df_vic['Battery (Discharging) -  GWh'] + df_vic['Solar (Rooftop) -  GWh'] + df_vic['Solar (Utility) -  GWh'] + df_vic['Hydro -  GWh'] + df_vic['Wind -  GWh'])/df_vic['Total Generation']"
   ]
  },
  {
   "cell_type": "code",
   "execution_count": null,
   "metadata": {},
   "outputs": [],
   "source": [
    "df_vic['TotalCO2Emissions'] = df_vic['Coal (Brown) Emissions Vol - tCO₂e'] + df_vic['Gas (OCGT) Emissions Vol - tCO₂e'] + df_vic['Gas (Steam) Emissions Vol - tCO₂e']"
   ]
  },
  {
   "cell_type": "code",
   "execution_count": null,
   "metadata": {},
   "outputs": [],
   "source": [
    "df_vic['CarbonIntensity'] = df_vic['TotalCO2Emissions'] / df_vic['Total Generation']"
   ]
  },
  {
   "cell_type": "code",
   "execution_count": null,
   "metadata": {},
   "outputs": [],
   "source": [
    "df_vic[['Total Generation','PercentRenewables','CarbonIntensity','TotalCO2Emissions']]"
   ]
  },
  {
   "cell_type": "code",
   "execution_count": null,
   "metadata": {},
   "outputs": [],
   "source": [
    "df[['Total Generation','PercentRenewables','CarbonIntensity','TotalCO2Emissions']]"
   ]
  },
  {
   "cell_type": "code",
   "execution_count": null,
   "metadata": {},
   "outputs": [],
   "source": [
    "df.to_csv('nsw_co2intensity.csv')\n",
    "df_vic.to_csv('vic_co2intensity.csv')"
   ]
  },
  {
   "cell_type": "code",
   "execution_count": null,
   "metadata": {},
   "outputs": [],
   "source": [
    "df"
   ]
  }
 ],
 "metadata": {
  "interpreter": {
   "hash": "f5c0dbb994636821d5e79f4ae22dc0c4b504966093d72c3df7fa2f554525c7d9"
  },
  "kernelspec": {
   "display_name": "Python 3.7.11 64-bit ('python37': conda)",
   "name": "python3"
  },
  "language_info": {
   "codemirror_mode": {
    "name": "ipython",
    "version": 3
   },
   "file_extension": ".py",
   "mimetype": "text/x-python",
   "name": "python",
   "nbconvert_exporter": "python",
   "pygments_lexer": "ipython3",
   "version": "3.7.11"
  },
  "orig_nbformat": 4
 },
 "nbformat": 4,
 "nbformat_minor": 2
}
