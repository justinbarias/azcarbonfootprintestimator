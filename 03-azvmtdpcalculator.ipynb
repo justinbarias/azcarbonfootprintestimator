{
 "cells": [
  {
   "cell_type": "code",
   "execution_count": null,
   "metadata": {},
   "outputs": [],
   "source": [
    "import pandas as pd"
   ]
  },
  {
   "cell_type": "code",
   "execution_count": null,
   "metadata": {},
   "outputs": [],
   "source": [
    "vm_skus = pd.read_csv('./azurevmskus.csv')\n",
    "vm_skus"
   ]
  },
  {
   "cell_type": "code",
   "execution_count": null,
   "metadata": {},
   "outputs": [],
   "source": [
    "vm_skus['memtdp'] = vm_skus['ram']/8 * 3"
   ]
  },
  {
   "cell_type": "code",
   "execution_count": null,
   "metadata": {},
   "outputs": [],
   "source": [
    "vm_skus['cputotaltdp'] = vm_skus['corecount']/vm_skus['cpumaxcores'] * vm_skus['cputdp']"
   ]
  },
  {
   "cell_type": "code",
   "execution_count": null,
   "metadata": {},
   "outputs": [],
   "source": [
    "vm_skus['gputotaltdp'] = vm_skus['gpucount'] * vm_skus['gputdp']"
   ]
  },
  {
   "cell_type": "code",
   "execution_count": null,
   "metadata": {},
   "outputs": [],
   "source": [
    "vm_skus['totaltdp'] = vm_skus['memtdp'] + vm_skus['cputotaltdp'] + vm_skus['gputotaltdp']"
   ]
  },
  {
   "cell_type": "code",
   "execution_count": null,
   "metadata": {},
   "outputs": [],
   "source": [
    "vm_skus"
   ]
  },
  {
   "cell_type": "code",
   "execution_count": null,
   "metadata": {},
   "outputs": [],
   "source": [
    "vm_skus.to_csv('azurevmskus_withtdp.csv')"
   ]
  }
 ],
 "metadata": {
  "interpreter": {
   "hash": "f5c0dbb994636821d5e79f4ae22dc0c4b504966093d72c3df7fa2f554525c7d9"
  },
  "kernelspec": {
   "display_name": "Python 3.7.11 64-bit ('python37': conda)",
   "name": "python3"
  },
  "language_info": {
   "codemirror_mode": {
    "name": "ipython",
    "version": 3
   },
   "file_extension": ".py",
   "mimetype": "text/x-python",
   "name": "python",
   "nbconvert_exporter": "python",
   "pygments_lexer": "ipython3",
   "version": "3.7.11"
  },
  "orig_nbformat": 4
 },
 "nbformat": 4,
 "nbformat_minor": 2
}
