{
 "cells": [
  {
   "cell_type": "code",
   "execution_count": 1,
   "metadata": {},
   "outputs": [],
   "source": [
    "import pandas as pd"
   ]
  },
  {
   "cell_type": "markdown",
   "metadata": {},
   "source": [
    "# How to export CloudFit Azure RateCard\n",
    "\n",
    "Run the kusto query:\n",
    "```\n",
    "CarbonEmissionResourceCard_Snapshot |\n",
    "where Timestamp == '2022-08-01T00:00:00Z' |\n",
    "join kind=inner MeterMapping_Materialized_Snapshot on MeterGuid |\n",
    "summarize arg_max(Timestamp,*) by MeterGuid\n",
    "```\n",
    "\n",
    "Then export to CSV"
   ]
  },
  {
   "cell_type": "code",
   "execution_count": 2,
   "metadata": {},
   "outputs": [],
   "source": [
    "az_co2_ratecard = pd.read_csv('./cloudfit/export.csv')"
   ]
  },
  {
   "cell_type": "markdown",
   "metadata": {},
   "source": [
    "# CloudFit Azure RateCard\n",
    "\n",
    "These units are units depending on the following classification\n",
    "\n",
    "| Resource | Common Unit | Definition\n",
    "|:--:|:--:|:--:|\n",
    "| Storage | Gb-hour | One GB stored for one hour in Azure\n",
    "| Compute | Core-hour | One core used for one hour based on the size of VM\n",
    "| Network | GB | One GB of data transmitted "
   ]
  },
  {
   "cell_type": "markdown",
   "metadata": {},
   "source": []
  },
  {
   "cell_type": "code",
   "execution_count": 5,
   "metadata": {},
   "outputs": [
    {
     "data": {
      "text/html": [
       "<div>\n",
       "<style scoped>\n",
       "    .dataframe tbody tr th:only-of-type {\n",
       "        vertical-align: middle;\n",
       "    }\n",
       "\n",
       "    .dataframe tbody tr th {\n",
       "        vertical-align: top;\n",
       "    }\n",
       "\n",
       "    .dataframe thead th {\n",
       "        text-align: right;\n",
       "    }\n",
       "</style>\n",
       "<table border=\"1\" class=\"dataframe\">\n",
       "  <thead>\n",
       "    <tr style=\"text-align: right;\">\n",
       "      <th></th>\n",
       "      <th>Group</th>\n",
       "      <th>MeterGuid</th>\n",
       "      <th>Timestamp</th>\n",
       "      <th>EmissionsPerUnitResourceUsage</th>\n",
       "      <th>EmissionsPerUnit_Scope1_mtCO2e_Azure</th>\n",
       "      <th>EmissionsPerUnit_Scope2_location_mtCO2e_Azure</th>\n",
       "      <th>EmissionsPerUnit_Scope2_market_mtCO2e_Azure</th>\n",
       "      <th>EmissionsPerUnit_Scope3_mtCo2e</th>\n",
       "      <th>MeterGuid1</th>\n",
       "      <th>MeterCategoryName</th>\n",
       "      <th>MeterSubcategoryName</th>\n",
       "      <th>MeterName</th>\n",
       "      <th>MeterRegionName</th>\n",
       "    </tr>\n",
       "  </thead>\n",
       "  <tbody>\n",
       "    <tr>\n",
       "      <th>11516</th>\n",
       "      <td>NaN</td>\n",
       "      <td>039d49e6-c713-5929-a310-a9a53a018338</td>\n",
       "      <td>2022-08-01T00:00:00Z</td>\n",
       "      <td>2.583586e-04</td>\n",
       "      <td>3.404295e-07</td>\n",
       "      <td>4.922137e-06</td>\n",
       "      <td>0.000000</td>\n",
       "      <td>2.530960e-04</td>\n",
       "      <td>039d49e6-c713-5929-a310-a9a53a018338</td>\n",
       "      <td>Virtual Machines</td>\n",
       "      <td>Esv4 Series</td>\n",
       "      <td>E32s v4</td>\n",
       "      <td>SE Central</td>\n",
       "    </tr>\n",
       "    <tr>\n",
       "      <th>11517</th>\n",
       "      <td>NaN</td>\n",
       "      <td>04de6b3c-2dad-548b-9a78-5edf5cd19652</td>\n",
       "      <td>2022-08-01T00:00:00Z</td>\n",
       "      <td>4.120700e-05</td>\n",
       "      <td>5.487986e-08</td>\n",
       "      <td>2.382574e-05</td>\n",
       "      <td>0.000000</td>\n",
       "      <td>1.732637e-05</td>\n",
       "      <td>04de6b3c-2dad-548b-9a78-5edf5cd19652</td>\n",
       "      <td>Virtual Machines</td>\n",
       "      <td>NCasv3 T4 Series Windows</td>\n",
       "      <td>NC4as T4 v3</td>\n",
       "      <td>US Central</td>\n",
       "    </tr>\n",
       "    <tr>\n",
       "      <th>11518</th>\n",
       "      <td>NaN</td>\n",
       "      <td>058535f3-e927-4143-9b39-4e9ec2bcc825</td>\n",
       "      <td>2022-08-01T00:00:00Z</td>\n",
       "      <td>5.956743e-06</td>\n",
       "      <td>1.466834e-08</td>\n",
       "      <td>1.824460e-06</td>\n",
       "      <td>0.000000</td>\n",
       "      <td>4.117614e-06</td>\n",
       "      <td>058535f3-e927-4143-9b39-4e9ec2bcc825</td>\n",
       "      <td>Virtual Machines</td>\n",
       "      <td>D/DS Series</td>\n",
       "      <td>D11/DS11</td>\n",
       "      <td>US East</td>\n",
       "    </tr>\n",
       "    <tr>\n",
       "      <th>11519</th>\n",
       "      <td>NaN</td>\n",
       "      <td>081e60d3-d4d3-5b99-b839-587426650fd4</td>\n",
       "      <td>2022-08-01T00:00:00Z</td>\n",
       "      <td>7.196766e-05</td>\n",
       "      <td>9.656117e-07</td>\n",
       "      <td>2.242306e-05</td>\n",
       "      <td>0.000000</td>\n",
       "      <td>4.857899e-05</td>\n",
       "      <td>081e60d3-d4d3-5b99-b839-587426650fd4</td>\n",
       "      <td>Virtual Machines</td>\n",
       "      <td>Esv5 Series Windows</td>\n",
       "      <td>E48s v5 Low Priority</td>\n",
       "      <td>EU North</td>\n",
       "    </tr>\n",
       "    <tr>\n",
       "      <th>11520</th>\n",
       "      <td>NaN</td>\n",
       "      <td>08898009-bd5e-48c7-a926-1029e815fdc3</td>\n",
       "      <td>2022-08-01T00:00:00Z</td>\n",
       "      <td>1.242274e-06</td>\n",
       "      <td>5.704752e-09</td>\n",
       "      <td>6.344647e-07</td>\n",
       "      <td>0.000000</td>\n",
       "      <td>6.021049e-07</td>\n",
       "      <td>08898009-bd5e-48c7-a926-1029e815fdc3</td>\n",
       "      <td>Virtual Machines</td>\n",
       "      <td>Av2 Series</td>\n",
       "      <td>A2 v2 Low Priority</td>\n",
       "      <td>US South Central</td>\n",
       "    </tr>\n",
       "    <tr>\n",
       "      <th>...</th>\n",
       "      <td>...</td>\n",
       "      <td>...</td>\n",
       "      <td>...</td>\n",
       "      <td>...</td>\n",
       "      <td>...</td>\n",
       "      <td>...</td>\n",
       "      <td>...</td>\n",
       "      <td>...</td>\n",
       "      <td>...</td>\n",
       "      <td>...</td>\n",
       "      <td>...</td>\n",
       "      <td>...</td>\n",
       "      <td>...</td>\n",
       "    </tr>\n",
       "    <tr>\n",
       "      <th>45325</th>\n",
       "      <td>NaN</td>\n",
       "      <td>ee6e2e65-b1d2-5863-a209-c584a58606a8</td>\n",
       "      <td>2022-08-01T00:00:00Z</td>\n",
       "      <td>3.418159e-06</td>\n",
       "      <td>3.901330e-09</td>\n",
       "      <td>1.182389e-06</td>\n",
       "      <td>0.000000</td>\n",
       "      <td>2.231868e-06</td>\n",
       "      <td>ee6e2e65-b1d2-5863-a209-c584a58606a8</td>\n",
       "      <td>Virtual Machines</td>\n",
       "      <td>Dsv4 Series</td>\n",
       "      <td>D2s v4</td>\n",
       "      <td>EU West</td>\n",
       "    </tr>\n",
       "    <tr>\n",
       "      <th>45326</th>\n",
       "      <td>NaN</td>\n",
       "      <td>f374ce73-912f-5a93-8fd2-d4a5986b4a52</td>\n",
       "      <td>2022-08-01T00:00:00Z</td>\n",
       "      <td>1.444544e-05</td>\n",
       "      <td>1.648736e-08</td>\n",
       "      <td>4.996881e-06</td>\n",
       "      <td>0.000000</td>\n",
       "      <td>9.432070e-06</td>\n",
       "      <td>f374ce73-912f-5a93-8fd2-d4a5986b4a52</td>\n",
       "      <td>Virtual Machines</td>\n",
       "      <td>Esv4 Series</td>\n",
       "      <td>E32-16s v4 Low Priority</td>\n",
       "      <td>EU West</td>\n",
       "    </tr>\n",
       "    <tr>\n",
       "      <th>45327</th>\n",
       "      <td>NaN</td>\n",
       "      <td>f69b71b2-4d12-406d-82f7-11903f972e6c</td>\n",
       "      <td>2022-08-01T00:00:00Z</td>\n",
       "      <td>1.706866e-05</td>\n",
       "      <td>3.556164e-08</td>\n",
       "      <td>8.988406e-06</td>\n",
       "      <td>0.000002</td>\n",
       "      <td>8.044690e-06</td>\n",
       "      <td>f69b71b2-4d12-406d-82f7-11903f972e6c</td>\n",
       "      <td>Virtual Machines</td>\n",
       "      <td>Av2 Series Windows</td>\n",
       "      <td>A4m v2</td>\n",
       "      <td>AU East</td>\n",
       "    </tr>\n",
       "    <tr>\n",
       "      <th>45328</th>\n",
       "      <td>NaN</td>\n",
       "      <td>fa752888-e8be-54d7-9723-4b44747350aa</td>\n",
       "      <td>2022-08-01T00:00:00Z</td>\n",
       "      <td>3.793761e-05</td>\n",
       "      <td>8.124693e-09</td>\n",
       "      <td>1.450433e-05</td>\n",
       "      <td>0.000000</td>\n",
       "      <td>2.342516e-05</td>\n",
       "      <td>fa752888-e8be-54d7-9723-4b44747350aa</td>\n",
       "      <td>Virtual Machines</td>\n",
       "      <td>D/DS Flex Series</td>\n",
       "      <td>D8/D8s</td>\n",
       "      <td>US West 3</td>\n",
       "    </tr>\n",
       "    <tr>\n",
       "      <th>45329</th>\n",
       "      <td>NaN</td>\n",
       "      <td>fc7cbbf5-c8a4-5869-9cbb-d4fab29b6969</td>\n",
       "      <td>2022-08-01T00:00:00Z</td>\n",
       "      <td>7.148725e-07</td>\n",
       "      <td>9.520739e-10</td>\n",
       "      <td>4.133368e-07</td>\n",
       "      <td>0.000000</td>\n",
       "      <td>3.005837e-07</td>\n",
       "      <td>fc7cbbf5-c8a4-5869-9cbb-d4fab29b6969</td>\n",
       "      <td>Virtual Machines</td>\n",
       "      <td>DSv3 Series</td>\n",
       "      <td>D2s v3 Spot</td>\n",
       "      <td>US Central</td>\n",
       "    </tr>\n",
       "  </tbody>\n",
       "</table>\n",
       "<p>33814 rows × 13 columns</p>\n",
       "</div>"
      ],
      "text/plain": [
       "      Group                             MeterGuid             Timestamp  \\\n",
       "11516   NaN  039d49e6-c713-5929-a310-a9a53a018338  2022-08-01T00:00:00Z   \n",
       "11517   NaN  04de6b3c-2dad-548b-9a78-5edf5cd19652  2022-08-01T00:00:00Z   \n",
       "11518   NaN  058535f3-e927-4143-9b39-4e9ec2bcc825  2022-08-01T00:00:00Z   \n",
       "11519   NaN  081e60d3-d4d3-5b99-b839-587426650fd4  2022-08-01T00:00:00Z   \n",
       "11520   NaN  08898009-bd5e-48c7-a926-1029e815fdc3  2022-08-01T00:00:00Z   \n",
       "...     ...                                   ...                   ...   \n",
       "45325   NaN  ee6e2e65-b1d2-5863-a209-c584a58606a8  2022-08-01T00:00:00Z   \n",
       "45326   NaN  f374ce73-912f-5a93-8fd2-d4a5986b4a52  2022-08-01T00:00:00Z   \n",
       "45327   NaN  f69b71b2-4d12-406d-82f7-11903f972e6c  2022-08-01T00:00:00Z   \n",
       "45328   NaN  fa752888-e8be-54d7-9723-4b44747350aa  2022-08-01T00:00:00Z   \n",
       "45329   NaN  fc7cbbf5-c8a4-5869-9cbb-d4fab29b6969  2022-08-01T00:00:00Z   \n",
       "\n",
       "       EmissionsPerUnitResourceUsage  EmissionsPerUnit_Scope1_mtCO2e_Azure  \\\n",
       "11516                   2.583586e-04                          3.404295e-07   \n",
       "11517                   4.120700e-05                          5.487986e-08   \n",
       "11518                   5.956743e-06                          1.466834e-08   \n",
       "11519                   7.196766e-05                          9.656117e-07   \n",
       "11520                   1.242274e-06                          5.704752e-09   \n",
       "...                              ...                                   ...   \n",
       "45325                   3.418159e-06                          3.901330e-09   \n",
       "45326                   1.444544e-05                          1.648736e-08   \n",
       "45327                   1.706866e-05                          3.556164e-08   \n",
       "45328                   3.793761e-05                          8.124693e-09   \n",
       "45329                   7.148725e-07                          9.520739e-10   \n",
       "\n",
       "       EmissionsPerUnit_Scope2_location_mtCO2e_Azure  \\\n",
       "11516                                   4.922137e-06   \n",
       "11517                                   2.382574e-05   \n",
       "11518                                   1.824460e-06   \n",
       "11519                                   2.242306e-05   \n",
       "11520                                   6.344647e-07   \n",
       "...                                              ...   \n",
       "45325                                   1.182389e-06   \n",
       "45326                                   4.996881e-06   \n",
       "45327                                   8.988406e-06   \n",
       "45328                                   1.450433e-05   \n",
       "45329                                   4.133368e-07   \n",
       "\n",
       "       EmissionsPerUnit_Scope2_market_mtCO2e_Azure  \\\n",
       "11516                                     0.000000   \n",
       "11517                                     0.000000   \n",
       "11518                                     0.000000   \n",
       "11519                                     0.000000   \n",
       "11520                                     0.000000   \n",
       "...                                            ...   \n",
       "45325                                     0.000000   \n",
       "45326                                     0.000000   \n",
       "45327                                     0.000002   \n",
       "45328                                     0.000000   \n",
       "45329                                     0.000000   \n",
       "\n",
       "       EmissionsPerUnit_Scope3_mtCo2e                            MeterGuid1  \\\n",
       "11516                    2.530960e-04  039d49e6-c713-5929-a310-a9a53a018338   \n",
       "11517                    1.732637e-05  04de6b3c-2dad-548b-9a78-5edf5cd19652   \n",
       "11518                    4.117614e-06  058535f3-e927-4143-9b39-4e9ec2bcc825   \n",
       "11519                    4.857899e-05  081e60d3-d4d3-5b99-b839-587426650fd4   \n",
       "11520                    6.021049e-07  08898009-bd5e-48c7-a926-1029e815fdc3   \n",
       "...                               ...                                   ...   \n",
       "45325                    2.231868e-06  ee6e2e65-b1d2-5863-a209-c584a58606a8   \n",
       "45326                    9.432070e-06  f374ce73-912f-5a93-8fd2-d4a5986b4a52   \n",
       "45327                    8.044690e-06  f69b71b2-4d12-406d-82f7-11903f972e6c   \n",
       "45328                    2.342516e-05  fa752888-e8be-54d7-9723-4b44747350aa   \n",
       "45329                    3.005837e-07  fc7cbbf5-c8a4-5869-9cbb-d4fab29b6969   \n",
       "\n",
       "      MeterCategoryName      MeterSubcategoryName                MeterName  \\\n",
       "11516  Virtual Machines               Esv4 Series                  E32s v4   \n",
       "11517  Virtual Machines  NCasv3 T4 Series Windows              NC4as T4 v3   \n",
       "11518  Virtual Machines               D/DS Series                 D11/DS11   \n",
       "11519  Virtual Machines       Esv5 Series Windows     E48s v5 Low Priority   \n",
       "11520  Virtual Machines                Av2 Series       A2 v2 Low Priority   \n",
       "...                 ...                       ...                      ...   \n",
       "45325  Virtual Machines               Dsv4 Series                   D2s v4   \n",
       "45326  Virtual Machines               Esv4 Series  E32-16s v4 Low Priority   \n",
       "45327  Virtual Machines        Av2 Series Windows                   A4m v2   \n",
       "45328  Virtual Machines          D/DS Flex Series                   D8/D8s   \n",
       "45329  Virtual Machines               DSv3 Series              D2s v3 Spot   \n",
       "\n",
       "        MeterRegionName  \n",
       "11516        SE Central  \n",
       "11517        US Central  \n",
       "11518           US East  \n",
       "11519          EU North  \n",
       "11520  US South Central  \n",
       "...                 ...  \n",
       "45325           EU West  \n",
       "45326           EU West  \n",
       "45327           AU East  \n",
       "45328         US West 3  \n",
       "45329        US Central  \n",
       "\n",
       "[33814 rows x 13 columns]"
      ]
     },
     "execution_count": 5,
     "metadata": {},
     "output_type": "execute_result"
    }
   ],
   "source": [
    "az_co2_ratecard[az_co2_ratecard.MeterCategoryName == 'Virtual Machines']"
   ]
  },
  {
   "cell_type": "markdown",
   "metadata": {},
   "source": [
    "# Constants"
   ]
  },
  {
   "cell_type": "code",
   "execution_count": 6,
   "metadata": {},
   "outputs": [],
   "source": [
    "hrs_per_month = 730"
   ]
  },
  {
   "cell_type": "markdown",
   "metadata": {},
   "source": [
    "# Functions to retrieve each component's (compute, network, storage) CO2 emissions"
   ]
  },
  {
   "cell_type": "code",
   "execution_count": 29,
   "metadata": {},
   "outputs": [],
   "source": [
    "def get_emissions_for_vm_sku_in_kg(vm_sku, region='AU East'):\n",
    "    return az_co2_ratecard[(az_co2_ratecard.MeterCategoryName == 'Virtual Machines') & (az_co2_ratecard.MeterName == vm_sku) & (az_co2_ratecard.MeterRegionName == region)].iloc[0].EmissionsPerUnitResourceUsage * hrs_per_month * 1000"
   ]
  },
  {
   "cell_type": "code",
   "execution_count": 30,
   "metadata": {},
   "outputs": [],
   "source": [
    "def get_emissions_for_vm_disk_in_kg(disk_sku, region='AU East'):\n",
    "    return az_co2_ratecard[(az_co2_ratecard.MeterCategoryName == 'Storage') & (az_co2_ratecard.MeterName == disk_sku) & (az_co2_ratecard.MeterRegionName == region)].iloc[0].EmissionsPerUnitResourceUsage * 1000"
   ]
  },
  {
   "cell_type": "code",
   "execution_count": 60,
   "metadata": {},
   "outputs": [],
   "source": [
    "def get_emissions_for_vm_network(data_out_in_gb, region='All'):\n",
    "    return (az_co2_ratecard[(az_co2_ratecard.MeterCategoryName == 'Virtual Network') & (az_co2_ratecard.MeterName == 'Inter-Region Egress') & (az_co2_ratecard.MeterRegionName == region)].iloc[0].EmissionsPerUnitResourceUsage + az_co2_ratecard[(az_co2_ratecard.MeterCategoryName == 'Virtual Network') & (az_co2_ratecard.MeterName == 'Inter-Region Ingress') & (az_co2_ratecard.MeterRegionName == region)].iloc[0].EmissionsPerUnitResourceUsage) * data_out_in_gb * 1000 "
   ]
  },
  {
   "cell_type": "code",
   "execution_count": 63,
   "metadata": {},
   "outputs": [],
   "source": [
    "def get_emissions_for_vm_per_month(vm_sku, disk_sku, data_out_in_gb, region='AU East'):\n",
    "    return get_emissions_for_vm_sku_in_kg(vm_sku, region) + get_emissions_for_vm_disk_in_kg(disk_sku, region) + get_emissions_for_vm_network(data_out_in_gb, 'All')"
   ]
  },
  {
   "cell_type": "markdown",
   "metadata": {},
   "source": [
    "# Exercise functions"
   ]
  },
  {
   "cell_type": "code",
   "execution_count": 66,
   "metadata": {},
   "outputs": [
    {
     "name": "stdout",
     "output_type": "stream",
     "text": [
      "VM: 7.899807158759507 kg in CO2Eq Emissions/Month\n"
     ]
    }
   ],
   "source": [
    "d2_v2_emissions =  get_emissions_for_vm_per_month('D2 v2/DS2 v2', 'S10 Disks', 50)\n",
    "print(f'VM: {d2_v2_emissions} kg in CO2Eq Emissions/Month')"
   ]
  },
  {
   "cell_type": "code",
   "execution_count": 67,
   "metadata": {},
   "outputs": [
    {
     "name": "stdout",
     "output_type": "stream",
     "text": [
      "VM: 15.302119696967235 kg in CO2Eq Emissions/Month\n"
     ]
    }
   ],
   "source": [
    "d3_v2_emissions =  get_emissions_for_vm_per_month('D3 v2/DS3 v2', 'S10 Disks', 50)\n",
    "print(f'VM: {d3_v2_emissions} kg in CO2Eq Emissions/Month')"
   ]
  },
  {
   "cell_type": "code",
   "execution_count": 69,
   "metadata": {},
   "outputs": [
    {
     "name": "stdout",
     "output_type": "stream",
     "text": [
      "VM: 5.845072717548771 kg in CO2Eq Emissions/Month\n"
     ]
    }
   ],
   "source": [
    "f2s_v2_emissions =  get_emissions_for_vm_per_month('F2s v2', 'S10 Disks', 50)\n",
    "print(f'VM: {f2s_v2_emissions} kg in CO2Eq Emissions/Month')"
   ]
  },
  {
   "cell_type": "code",
   "execution_count": 70,
   "metadata": {},
   "outputs": [
    {
     "name": "stdout",
     "output_type": "stream",
     "text": [
      "VM: 6.898782687400419 kg in CO2Eq Emissions/Month\n"
     ]
    }
   ],
   "source": [
    "e2_v4_emissions =  get_emissions_for_vm_per_month('E2s v4', 'S10 Disks', 50)\n",
    "print(f'VM: {e2_v4_emissions} kg in CO2Eq Emissions/Month')"
   ]
  },
  {
   "cell_type": "markdown",
   "metadata": {},
   "source": [
    "# AKS - Related Emissions"
   ]
  },
  {
   "cell_type": "code",
   "execution_count": 53,
   "metadata": {},
   "outputs": [],
   "source": [
    "def get_emissions_for_aks_in_kg():\n",
    "    return az_co2_ratecard[(az_co2_ratecard.MeterCategoryName == 'Azure Kubernetes Service') & (az_co2_ratecard.MeterName == 'Standard Uptime SLA')].iloc[0].EmissionsPerUnitResourceUsage * hrs_per_month * 1000"
   ]
  },
  {
   "cell_type": "code",
   "execution_count": 54,
   "metadata": {},
   "outputs": [],
   "source": [
    "aks = get_emissions_for_aks_in_kg()"
   ]
  },
  {
   "cell_type": "code",
   "execution_count": 55,
   "metadata": {},
   "outputs": [
    {
     "data": {
      "text/plain": [
       "3.2851987288340494"
      ]
     },
     "execution_count": 55,
     "metadata": {},
     "output_type": "execute_result"
    }
   ],
   "source": [
    "aks"
   ]
  }
 ],
 "metadata": {
  "kernelspec": {
   "display_name": "Python 3.8.12 ('python38')",
   "language": "python",
   "name": "python3"
  },
  "language_info": {
   "codemirror_mode": {
    "name": "ipython",
    "version": 3
   },
   "file_extension": ".py",
   "mimetype": "text/x-python",
   "name": "python",
   "nbconvert_exporter": "python",
   "pygments_lexer": "ipython3",
   "version": "3.8.12"
  },
  "orig_nbformat": 4,
  "vscode": {
   "interpreter": {
    "hash": "a0144ca6cd813f0b65c413334c0c5cc6b9f6796c761212bfbeb52fa5bdab1a29"
   }
  }
 },
 "nbformat": 4,
 "nbformat_minor": 2
}
