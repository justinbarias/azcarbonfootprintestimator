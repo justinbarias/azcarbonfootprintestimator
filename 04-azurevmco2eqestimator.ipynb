{
 "cells": [
  {
   "cell_type": "code",
   "execution_count": null,
   "metadata": {},
   "outputs": [],
   "source": [
    "import pandas as pd"
   ]
  },
  {
   "cell_type": "code",
   "execution_count": null,
   "metadata": {},
   "outputs": [],
   "source": [
    "nsw_co2 = pd.read_csv('./emissions/nsw_co2intensity.csv')\n",
    "vic_co2 = pd.read_csv('./emissions/vic_co2intensity.csv')"
   ]
  },
  {
   "cell_type": "code",
   "execution_count": null,
   "metadata": {},
   "outputs": [],
   "source": [
    "vm_skus_tdp = pd.read_csv('./azurevms/azurevmskus_withtdp.csv')\n",
    "vm_skus_tdp"
   ]
  },
  {
   "cell_type": "code",
   "execution_count": null,
   "metadata": {},
   "outputs": [],
   "source": [
    "# These are the inputs\n",
    "\n",
    "desired_sku_list = [{'sku':'Standard_D3_v2','count':4}, {'sku':'Standard_F16s_v2', 'count':2}, {'sku':'Standard_NC12','count': 1}]\n",
    "default_hours_month = 730.5\n",
    "start_month = 10\n",
    "average_util_pct = .30\n",
    "desired_region = 'vic'\n",
    "microsoft_pue_constant = 1.125"
   ]
  },
  {
   "cell_type": "code",
   "execution_count": null,
   "metadata": {},
   "outputs": [],
   "source": [
    "if(desired_region == 'nsw'):\n",
    "    carbonintensity = nsw_co2[['date','CarbonIntensity']]\n",
    "else:\n",
    "    carbonintensity = vic_co2[['date','CarbonIntensity']]\n",
    "\n"
   ]
  },
  {
   "cell_type": "code",
   "execution_count": null,
   "metadata": {},
   "outputs": [],
   "source": [
    "# Filter skus\n",
    "skus_list = [x['sku'] for x in desired_sku_list]\n",
    "is_in_desired_skus = vm_skus_tdp['skuname'].isin(skus_list)\n",
    "\n",
    "vm_desired_skus = vm_skus_tdp[is_in_desired_skus]\n",
    "vm_desired_skus"
   ]
  },
  {
   "cell_type": "code",
   "execution_count": null,
   "metadata": {},
   "outputs": [],
   "source": [
    "# Append SKU count\n",
    "vm_desired_skus['skucount'] =  vm_desired_skus['skuname'].map(lambda x: [y['count'] for y in desired_sku_list if y['sku'] == x].pop() )\n",
    "vm_desired_skus['skucount']"
   ]
  },
  {
   "cell_type": "code",
   "execution_count": null,
   "metadata": {},
   "outputs": [],
   "source": [
    "vm_desired_skus"
   ]
  },
  {
   "cell_type": "code",
   "execution_count": null,
   "metadata": {},
   "outputs": [],
   "source": [
    "vm_desired_skus['totalmonthlykwh'] = vm_desired_skus['totaltdp'] * vm_desired_skus['skucount'] * default_hours_month / 1000 * microsoft_pue_constant * average_util_pct\n",
    "vm_desired_skus['totalmonthlykwh']"
   ]
  },
  {
   "cell_type": "code",
   "execution_count": null,
   "metadata": {},
   "outputs": [],
   "source": [
    "carbonintensity['CarbonIntensity']"
   ]
  },
  {
   "cell_type": "code",
   "execution_count": null,
   "metadata": {},
   "outputs": [],
   "source": [
    "# Generate CO2eq emissions per month\n",
    "desired_skus_with_monthly_co2 = vm_desired_skus.apply(lambda x: carbonintensity['CarbonIntensity'].map(lambda y: y * x['totalmonthlykwh']), axis=1)"
   ]
  },
  {
   "cell_type": "code",
   "execution_count": null,
   "metadata": {},
   "outputs": [],
   "source": [
    "# Convert to KG\n",
    "desired_skus_with_monthly_co2 = desired_skus_with_monthly_co2.apply(lambda x: x/1000)"
   ]
  },
  {
   "cell_type": "code",
   "execution_count": null,
   "metadata": {},
   "outputs": [],
   "source": [
    "desired_skus_with_monthly_co2\n",
    "\n",
    "desired_skus_with_monthly_co2['TotalYearlyCO2InKg'] = desired_skus_with_monthly_co2.sum(axis=1)\n",
    "desired_skus_with_monthly_co2['TotalYearlyCO2InKg']"
   ]
  },
  {
   "cell_type": "code",
   "execution_count": null,
   "metadata": {},
   "outputs": [],
   "source": [
    "desired_skus_with_monthly_co2"
   ]
  },
  {
   "cell_type": "code",
   "execution_count": null,
   "metadata": {},
   "outputs": [],
   "source": [
    "vm_desired_skus = vm_desired_skus.join(desired_skus_with_monthly_co2)"
   ]
  },
  {
   "cell_type": "code",
   "execution_count": null,
   "metadata": {},
   "outputs": [],
   "source": [
    "vm_desired_skus.head(5)"
   ]
  }
 ],
 "metadata": {
  "interpreter": {
   "hash": "f5c0dbb994636821d5e79f4ae22dc0c4b504966093d72c3df7fa2f554525c7d9"
  },
  "kernelspec": {
   "display_name": "Python 3.7.11 64-bit ('python37': conda)",
   "name": "python3"
  },
  "language_info": {
   "codemirror_mode": {
    "name": "ipython",
    "version": 3
   },
   "file_extension": ".py",
   "mimetype": "text/x-python",
   "name": "python",
   "nbconvert_exporter": "python",
   "pygments_lexer": "ipython3",
   "version": "3.7.11"
  },
  "orig_nbformat": 4
 },
 "nbformat": 4,
 "nbformat_minor": 2
}
