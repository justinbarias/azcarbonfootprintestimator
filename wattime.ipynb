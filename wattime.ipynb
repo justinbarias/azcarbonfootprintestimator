{
 "cells": [
  {
   "cell_type": "code",
   "execution_count": null,
   "metadata": {},
   "outputs": [],
   "source": [
    "import requests\n"
   ]
  },
  {
   "cell_type": "code",
   "execution_count": null,
   "metadata": {},
   "outputs": [],
   "source": [
    "register_url = 'https://api2.watttime.org/v2/register'\n",
    "params = {'username': 'justinbarias',\n",
    "         'password': '',\n",
    "         'email': 'jebarias@microsoft.com',\n",
    "         'org': 'Microsoft'}\n",
    "rsp = requests.post(register_url, json=params)\n",
    "print(rsp.text)"
   ]
  },
  {
   "cell_type": "code",
   "execution_count": null,
   "metadata": {},
   "outputs": [],
   "source": [
    "from requests.auth import HTTPBasicAuth\n",
    "login_url = 'https://api2.watttime.org/v2/login'\n",
    "rsp = requests.get(login_url, auth=HTTPBasicAuth('justinbarias', 'justinbariasP@ssw0rd'))\n",
    "print(rsp.json())\n"
   ]
  },
  {
   "cell_type": "code",
   "execution_count": null,
   "metadata": {},
   "outputs": [],
   "source": [
    "token = rsp.json()\n",
    "token = token['token']\n",
    "token "
   ]
  },
  {
   "cell_type": "code",
   "execution_count": null,
   "metadata": {},
   "outputs": [],
   "source": [
    "region_url = 'https://api2.watttime.org/v2/ba-from-loc'\n",
    "headers = {'Authorization': 'Bearer {}'.format(token)}\n",
    "params = {'latitude': '-42.880554', 'longitude': '147.324997'}\n",
    "rsp=requests.get(region_url, headers=headers, params=params)\n",
    "print(rsp.text)\n"
   ]
  },
  {
   "cell_type": "code",
   "execution_count": null,
   "metadata": {},
   "outputs": [],
   "source": [
    "index_url = 'https://api2.watttime.org/index'\n",
    "headers = {'Authorization': 'Bearer {}'.format(token)}\n",
    "params = {'ba': 'NEM'}\n",
    "rsp=requests.get(index_url, headers=headers, params=params)\n",
    "print(rsp.text)"
   ]
  }
 ],
 "metadata": {
  "kernelspec": {
   "display_name": "Python 3.10.6 64-bit",
   "language": "python",
   "name": "python3"
  },
  "language_info": {
   "codemirror_mode": {
    "name": "ipython",
    "version": 3
   },
   "file_extension": ".py",
   "mimetype": "text/x-python",
   "name": "python",
   "nbconvert_exporter": "python",
   "pygments_lexer": "ipython3",
   "version": "3.10.6"
  },
  "orig_nbformat": 4,
  "vscode": {
   "interpreter": {
    "hash": "b0fa6594d8f4cbf19f97940f81e996739fb7646882a419484c72d19e05852a7e"
   }
  }
 },
 "nbformat": 4,
 "nbformat_minor": 2
}
