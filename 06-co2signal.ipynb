{
 "cells": [
  {
   "cell_type": "code",
   "execution_count": 1,
   "metadata": {},
   "outputs": [],
   "source": [
    "# How to make http request\n",
    "import requests as req\n",
    "apiKey = ''"
   ]
  },
  {
   "cell_type": "code",
   "execution_count": 9,
   "metadata": {},
   "outputs": [
    {
     "data": {
      "text/html": [
       "<div>\n",
       "<style scoped>\n",
       "    .dataframe tbody tr th:only-of-type {\n",
       "        vertical-align: middle;\n",
       "    }\n",
       "\n",
       "    .dataframe tbody tr th {\n",
       "        vertical-align: top;\n",
       "    }\n",
       "\n",
       "    .dataframe thead th {\n",
       "        text-align: right;\n",
       "    }\n",
       "</style>\n",
       "<table border=\"1\" class=\"dataframe\">\n",
       "  <thead>\n",
       "    <tr style=\"text-align: right;\">\n",
       "      <th></th>\n",
       "      <th>Regions</th>\n",
       "      <th>CountryCode</th>\n",
       "    </tr>\n",
       "  </thead>\n",
       "  <tbody>\n",
       "    <tr>\n",
       "      <th>0</th>\n",
       "      <td>West US</td>\n",
       "      <td>US-CAL-CISO</td>\n",
       "    </tr>\n",
       "    <tr>\n",
       "      <th>1</th>\n",
       "      <td>East US</td>\n",
       "      <td>MIDA-PJM</td>\n",
       "    </tr>\n",
       "    <tr>\n",
       "      <th>2</th>\n",
       "      <td>North EU</td>\n",
       "      <td>GB-NIR</td>\n",
       "    </tr>\n",
       "    <tr>\n",
       "      <th>3</th>\n",
       "      <td>West EU</td>\n",
       "      <td>NL</td>\n",
       "    </tr>\n",
       "    <tr>\n",
       "      <th>4</th>\n",
       "      <td>East Asia</td>\n",
       "      <td>HK</td>\n",
       "    </tr>\n",
       "    <tr>\n",
       "      <th>5</th>\n",
       "      <td>SouthEast Asia</td>\n",
       "      <td>SG</td>\n",
       "    </tr>\n",
       "    <tr>\n",
       "      <th>6</th>\n",
       "      <td>AU East</td>\n",
       "      <td>AUS-NSW</td>\n",
       "    </tr>\n",
       "    <tr>\n",
       "      <th>7</th>\n",
       "      <td>AU Central</td>\n",
       "      <td>AUS-NSW</td>\n",
       "    </tr>\n",
       "  </tbody>\n",
       "</table>\n",
       "</div>"
      ],
      "text/plain": [
       "          Regions  CountryCode\n",
       "0         West US  US-CAL-CISO\n",
       "1         East US     MIDA-PJM\n",
       "2        North EU       GB-NIR\n",
       "3         West EU           NL\n",
       "4       East Asia           HK\n",
       "5  SouthEast Asia           SG\n",
       "6         AU East      AUS-NSW\n",
       "7      AU Central      AUS-NSW"
      ]
     },
     "execution_count": 9,
     "metadata": {},
     "output_type": "execute_result"
    }
   ],
   "source": [
    "# Read CSV inputs  \n",
    "import pandas as pd\n",
    "df_zones = pd.read_csv('./co2signal/zones.csv')\n",
    "df_zones = df_zones.drop(columns=['carbonIntensity','fossilFuelPercentage','units'])\n",
    "df_zones"
   ]
  },
  {
   "cell_type": "code",
   "execution_count": 16,
   "metadata": {},
   "outputs": [
    {
     "name": "stdout",
     "output_type": "stream",
     "text": [
      "{\"_disclaimer\":\"This data is the exclusive property of electricityMap and/or related parties. If you're in doubt about your rights to use this data, please contact api@co2signal.com\",\"status\":\"ok\",\"countryCode\":\"US-CAL-CISO\",\"data\":{\"datetime\":\"2022-09-21T06:00:00.000Z\",\"carbonIntensity\":314,\"fossilFuelPercentage\":61.03999999999999},\"units\":{\"carbonIntensity\":\"gCO2eq/kWh\"}}\n",
      "{'_disclaimer': \"This data is the exclusive property of electricityMap and/or related parties. If you're in doubt about your rights to use this data, please contact api@co2signal.com\", 'status': 'ok', 'countryCode': 'US-CAL-CISO', 'data': {'datetime': '2022-09-21T06:00:00.000Z', 'carbonIntensity': 314, 'fossilFuelPercentage': 61.03999999999999}, 'units': {'carbonIntensity': 'gCO2eq/kWh'}}\n",
      "{\"_disclaimer\":\"This data is the exclusive property of electricityMap and/or related parties. If you're in doubt about your rights to use this data, please contact api@co2signal.com\",\"status\":\"ok\",\"countryCode\":\"MIDA-PJM\",\"data\":{\"fossilFuelPercentage\":null},\"units\":{\"carbonIntensity\":\"gCO2eq/kWh\"}}\n",
      "{'_disclaimer': \"This data is the exclusive property of electricityMap and/or related parties. If you're in doubt about your rights to use this data, please contact api@co2signal.com\", 'status': 'ok', 'countryCode': 'MIDA-PJM', 'data': {'fossilFuelPercentage': None}, 'units': {'carbonIntensity': 'gCO2eq/kWh'}}\n",
      "{\"_disclaimer\":\"This data is the exclusive property of electricityMap and/or related parties. If you're in doubt about your rights to use this data, please contact api@co2signal.com\",\"status\":\"ok\",\"countryCode\":\"GB-NIR\",\"data\":{\"fossilFuelPercentage\":null},\"units\":{\"carbonIntensity\":\"gCO2eq/kWh\"}}\n",
      "{'_disclaimer': \"This data is the exclusive property of electricityMap and/or related parties. If you're in doubt about your rights to use this data, please contact api@co2signal.com\", 'status': 'ok', 'countryCode': 'GB-NIR', 'data': {'fossilFuelPercentage': None}, 'units': {'carbonIntensity': 'gCO2eq/kWh'}}\n",
      "{\"_disclaimer\":\"This data is the exclusive property of electricityMap and/or related parties. If you're in doubt about your rights to use this data, please contact api@co2signal.com\",\"status\":\"ok\",\"countryCode\":\"NL\",\"data\":{\"datetime\":\"2022-09-21T04:00:00.000Z\",\"carbonIntensity\":477,\"fossilFuelPercentage\":88.84},\"units\":{\"carbonIntensity\":\"gCO2eq/kWh\"}}\n",
      "{'_disclaimer': \"This data is the exclusive property of electricityMap and/or related parties. If you're in doubt about your rights to use this data, please contact api@co2signal.com\", 'status': 'ok', 'countryCode': 'NL', 'data': {'datetime': '2022-09-21T04:00:00.000Z', 'carbonIntensity': 477, 'fossilFuelPercentage': 88.84}, 'units': {'carbonIntensity': 'gCO2eq/kWh'}}\n",
      "{\"_disclaimer\":\"This data is the exclusive property of electricityMap and/or related parties. If you're in doubt about your rights to use this data, please contact api@co2signal.com\",\"status\":\"ok\",\"countryCode\":\"HK\",\"data\":{\"datetime\":\"2022-09-21T04:00:00.000Z\",\"carbonIntensity\":435,\"fossilFuelPercentage\":72},\"units\":{\"carbonIntensity\":\"gCO2eq/kWh\"}}\n",
      "{'_disclaimer': \"This data is the exclusive property of electricityMap and/or related parties. If you're in doubt about your rights to use this data, please contact api@co2signal.com\", 'status': 'ok', 'countryCode': 'HK', 'data': {'datetime': '2022-09-21T04:00:00.000Z', 'carbonIntensity': 435, 'fossilFuelPercentage': 72}, 'units': {'carbonIntensity': 'gCO2eq/kWh'}}\n",
      "{\"_disclaimer\":\"This data is the exclusive property of electricityMap and/or related parties. If you're in doubt about your rights to use this data, please contact api@co2signal.com\",\"status\":\"ok\",\"countryCode\":\"SG\",\"data\":{\"datetime\":\"2022-09-21T06:00:00.000Z\",\"carbonIntensity\":468,\"fossilFuelPercentage\":91.03},\"units\":{\"carbonIntensity\":\"gCO2eq/kWh\"}}\n",
      "{'_disclaimer': \"This data is the exclusive property of electricityMap and/or related parties. If you're in doubt about your rights to use this data, please contact api@co2signal.com\", 'status': 'ok', 'countryCode': 'SG', 'data': {'datetime': '2022-09-21T06:00:00.000Z', 'carbonIntensity': 468, 'fossilFuelPercentage': 91.03}, 'units': {'carbonIntensity': 'gCO2eq/kWh'}}\n",
      "{\"_disclaimer\":\"This data is the exclusive property of electricityMap and/or related parties. If you're in doubt about your rights to use this data, please contact api@co2signal.com\",\"status\":\"ok\",\"countryCode\":\"AUS-NSW\",\"data\":{\"datetime\":\"2022-09-21T06:00:00.000Z\",\"carbonIntensity\":670,\"fossilFuelPercentage\":83.29},\"units\":{\"carbonIntensity\":\"gCO2eq/kWh\"}}\n",
      "{'_disclaimer': \"This data is the exclusive property of electricityMap and/or related parties. If you're in doubt about your rights to use this data, please contact api@co2signal.com\", 'status': 'ok', 'countryCode': 'AUS-NSW', 'data': {'datetime': '2022-09-21T06:00:00.000Z', 'carbonIntensity': 670, 'fossilFuelPercentage': 83.29}, 'units': {'carbonIntensity': 'gCO2eq/kWh'}}\n",
      "{\"_disclaimer\":\"This data is the exclusive property of electricityMap and/or related parties. If you're in doubt about your rights to use this data, please contact api@co2signal.com\",\"status\":\"ok\",\"countryCode\":\"AUS-NSW\",\"data\":{\"datetime\":\"2022-09-21T06:00:00.000Z\",\"carbonIntensity\":670,\"fossilFuelPercentage\":83.29},\"units\":{\"carbonIntensity\":\"gCO2eq/kWh\"}}\n",
      "{'_disclaimer': \"This data is the exclusive property of electricityMap and/or related parties. If you're in doubt about your rights to use this data, please contact api@co2signal.com\", 'status': 'ok', 'countryCode': 'AUS-NSW', 'data': {'datetime': '2022-09-21T06:00:00.000Z', 'carbonIntensity': 670, 'fossilFuelPercentage': 83.29}, 'units': {'carbonIntensity': 'gCO2eq/kWh'}}\n"
     ]
    }
   ],
   "source": [
    "#Iterating the rows of a DataFrame into http request\n",
    "# https://stackoverflow.com/questions/16476924/how-to-iterate-over-rows-in-a-dataframe-in-pandas \n",
    "import time\n",
    "import requests as req\n",
    "import json\n",
    "intensity = []\n",
    "for index, row in df.iterrows():\n",
    "    r = req.get('https://api.co2signal.com/v1/latest?countryCode='+row[1], headers={'auth-token': apiKey})\n",
    "    print (r.text)\n",
    "    json_data = json.loads(r.text)\n",
    "    print (json_data)\n",
    "    intensity.append({'zone': json_data['countryCode'], 'data': json_data['data']})\n",
    "    time.sleep(3) #Sleep for 3 seconds"
   ]
  },
  {
   "cell_type": "code",
   "execution_count": 18,
   "metadata": {},
   "outputs": [
    {
     "name": "stdout",
     "output_type": "stream",
     "text": [
      "[{'zone': 'US-CAL-CISO', 'data': {'datetime': '2022-09-21T06:00:00.000Z', 'carbonIntensity': 314, 'fossilFuelPercentage': 61.03999999999999}}, {'zone': 'MIDA-PJM', 'data': {'fossilFuelPercentage': None}}, {'zone': 'GB-NIR', 'data': {'fossilFuelPercentage': None}}, {'zone': 'NL', 'data': {'datetime': '2022-09-21T04:00:00.000Z', 'carbonIntensity': 477, 'fossilFuelPercentage': 88.84}}, {'zone': 'HK', 'data': {'datetime': '2022-09-21T04:00:00.000Z', 'carbonIntensity': 435, 'fossilFuelPercentage': 72}}, {'zone': 'SG', 'data': {'datetime': '2022-09-21T06:00:00.000Z', 'carbonIntensity': 468, 'fossilFuelPercentage': 91.03}}, {'zone': 'AUS-NSW', 'data': {'datetime': '2022-09-21T06:00:00.000Z', 'carbonIntensity': 670, 'fossilFuelPercentage': 83.29}}, {'zone': 'AUS-NSW', 'data': {'datetime': '2022-09-21T06:00:00.000Z', 'carbonIntensity': 670, 'fossilFuelPercentage': 83.29}}]\n"
     ]
    }
   ],
   "source": [
    "print(intensity)"
   ]
  },
  {
   "cell_type": "code",
   "execution_count": 57,
   "metadata": {},
   "outputs": [
    {
     "name": "stdout",
     "output_type": "stream",
     "text": [
      "{\"_disclaimer\":\"This data is the exclusive property of electricityMap and/or related parties. If you're in doubt about your rights to use this data, please contact api@co2signal.com\",\"status\":\"ok\",\"countryCode\":\"US-CAL-CISO\",\"data\":{\"datetime\":\"2022-09-21T05:00:00.000Z\",\"carbonIntensity\":308,\"fossilFuelPercentage\":58.15},\"units\":{\"carbonIntensity\":\"gCO2eq/kWh\"}}\n",
      "{\"_disclaimer\":\"This data is the exclusive property of electricityMap and/or related parties. If you're in doubt about your rights to use this data, please contact api@co2signal.com\",\"status\":\"ok\",\"countryCode\":\"MIDA-PJM\",\"data\":{\"fossilFuelPercentage\":null},\"units\":{\"carbonIntensity\":\"gCO2eq/kWh\"}}\n",
      "{\"_disclaimer\":\"This data is the exclusive property of electricityMap and/or related parties. If you're in doubt about your rights to use this data, please contact api@co2signal.com\",\"status\":\"ok\",\"countryCode\":\"GB-NIR\",\"data\":{\"fossilFuelPercentage\":null},\"units\":{\"carbonIntensity\":\"gCO2eq/kWh\"}}\n",
      "{\"_disclaimer\":\"This data is the exclusive property of electricityMap and/or related parties. If you're in doubt about your rights to use this data, please contact api@co2signal.com\",\"status\":\"ok\",\"countryCode\":\"NL\",\"data\":{\"datetime\":\"2022-09-21T04:00:00.000Z\",\"carbonIntensity\":477,\"fossilFuelPercentage\":88.84},\"units\":{\"carbonIntensity\":\"gCO2eq/kWh\"}}\n",
      "{\"_disclaimer\":\"This data is the exclusive property of electricityMap and/or related parties. If you're in doubt about your rights to use this data, please contact api@co2signal.com\",\"status\":\"ok\",\"countryCode\":\"HK\",\"data\":{\"datetime\":\"2022-09-21T04:00:00.000Z\",\"carbonIntensity\":435,\"fossilFuelPercentage\":72},\"units\":{\"carbonIntensity\":\"gCO2eq/kWh\"}}\n",
      "{\"_disclaimer\":\"This data is the exclusive property of electricityMap and/or related parties. If you're in doubt about your rights to use this data, please contact api@co2signal.com\",\"status\":\"ok\",\"countryCode\":\"SG\",\"data\":{\"datetime\":\"2022-09-21T05:00:00.000Z\",\"carbonIntensity\":468,\"fossilFuelPercentage\":91.03},\"units\":{\"carbonIntensity\":\"gCO2eq/kWh\"}}\n",
      "{\"_disclaimer\":\"This data is the exclusive property of electricityMap and/or related parties. If you're in doubt about your rights to use this data, please contact api@co2signal.com\",\"status\":\"ok\",\"countryCode\":\"AUS-NSW\",\"data\":{\"datetime\":\"2022-09-21T05:00:00.000Z\",\"carbonIntensity\":670,\"fossilFuelPercentage\":83.28},\"units\":{\"carbonIntensity\":\"gCO2eq/kWh\"}}\n",
      "{\"_disclaimer\":\"This data is the exclusive property of electricityMap and/or related parties. If you're in doubt about your rights to use this data, please contact api@co2signal.com\",\"status\":\"ok\",\"countryCode\":\"AUS-NSW\",\"data\":{\"datetime\":\"2022-09-21T05:00:00.000Z\",\"carbonIntensity\":670,\"fossilFuelPercentage\":83.28},\"units\":{\"carbonIntensity\":\"gCO2eq/kWh\"}}\n"
     ]
    }
   ],
   "source": [
    "dataList =[]\n",
    "for index, row in df.iterrows():\n",
    "    r = req.get('https://api.co2signal.com/v1/latest?countryCode='+row[1], headers={'auth-token': apiKey})\n",
    "    dataList.append(r)\n",
    "    print (r.text)\n",
    "    time.sleep(3) #Sleep for 3 seconds\n",
    "\n",
    "with open('co2signalzones\\co2emissionoutput.csv', 'w') as f:\n",
    "    writer = csv.writer(f)\n",
    "    writer.writerows(dataList)\n",
    "    #df = pd.read_json(r.text)\n",
    "    #df.to_csv('co2signalzones\\co2emissionoutput.csv', mode='a')"
   ]
  }
 ],
 "metadata": {
  "kernelspec": {
   "display_name": "Python 3.8.12 ('python38')",
   "language": "python",
   "name": "python3"
  },
  "language_info": {
   "codemirror_mode": {
    "name": "ipython",
    "version": 3
   },
   "file_extension": ".py",
   "mimetype": "text/x-python",
   "name": "python",
   "nbconvert_exporter": "python",
   "pygments_lexer": "ipython3",
   "version": "3.8.12"
  },
  "orig_nbformat": 4,
  "vscode": {
   "interpreter": {
    "hash": "a0144ca6cd813f0b65c413334c0c5cc6b9f6796c761212bfbeb52fa5bdab1a29"
   }
  }
 },
 "nbformat": 4,
 "nbformat_minor": 2
}
